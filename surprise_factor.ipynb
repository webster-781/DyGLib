{
 "cells": [
  {
   "cell_type": "code",
   "execution_count": 2,
   "metadata": {},
   "outputs": [],
   "source": [
    "from collections import defaultdict\n",
    "from utils.DataLoader import get_link_prediction_data "
   ]
  },
  {
   "cell_type": "code",
   "execution_count": 4,
   "metadata": {},
   "outputs": [],
   "source": [
    "def calc_surprise_factor(dataset_name):\n",
    "  (\n",
    "    node_raw_features,\n",
    "    edge_raw_features,\n",
    "    full_data,\n",
    "    train_data,\n",
    "    val_data,\n",
    "    test_data,\n",
    "    new_node_val_data,\n",
    "    new_node_test_data,\n",
    "  ) = get_link_prediction_data(dataset_name=dataset_name, val_ratio=0.15, test_ratio=0.15)\n",
    "  known_edges = defaultdict(lambda: 0)\n",
    "  for src, dst in zip(train_data.src_node_ids, train_data.dst_node_ids):\n",
    "    known_edges[f'{src} {dst}'] = known_edges[f'{dst} {src}'] = 1\n",
    "  surp_all, tot_all =0, 0\n",
    "  surp_val, tot_val =0, 0\n",
    "  for src, dst in zip(val_data.src_node_ids, val_data.dst_node_ids):\n",
    "    if not known_edges[f'{src} {dst}']:\n",
    "      known_edges[f'{src} {dst}'] = known_edges[f'{dst} {src}'] = 1\n",
    "      surp_val += 1\n",
    "      surp_all += 1\n",
    "    tot_val += 1\n",
    "    tot_all += 1\n",
    "  print('Val')\n",
    "  print(surp_val, tot_val, round(100*surp_val/tot_val, 2))\n",
    "  surp_test, tot_test =0, 0\n",
    "  for src, dst in zip(test_data.src_node_ids, test_data.dst_node_ids):\n",
    "    if not known_edges[f'{src} {dst}']:\n",
    "      known_edges[f'{src} {dst}'] = known_edges[f'{dst} {src}'] = 1\n",
    "      surp_test += 1\n",
    "      surp_all += 1\n",
    "    tot_test += 1\n",
    "    tot_all += 1\n",
    "  print('Test')\n",
    "  print(surp_test, tot_test, round(100*surp_test/tot_test, 2))\n",
    "  print('Val + Test')\n",
    "  print(surp_all, tot_all, round(100*surp_all/tot_all, 2))"
   ]
  },
  {
   "cell_type": "code",
   "execution_count": 5,
   "metadata": {},
   "outputs": [
    {
     "name": "stdout",
     "output_type": "stream",
     "text": [
      "ia-retweet-pol\n"
     ]
    },
    {
     "name": "stderr",
     "output_type": "stream",
     "text": [
      "100%|██████████| 61156/61156 [00:00<00:00, 1801059.23it/s]\n"
     ]
    },
    {
     "name": "stdout",
     "output_type": "stream",
     "text": [
      "The dataset has 61156 interactions, involving 18470 different nodes\n",
      "The training dataset has 30070 interactions, involving 12678 different nodes\n",
      "The validation dataset has 9173 interactions, involving 5479 different nodes\n",
      "The test dataset has 9174 interactions, involving 5328 different nodes\n",
      "The new node validation dataset has 4957 interactions, involving 4196 different nodes\n",
      "The new node test dataset has 5073 interactions, involving 4153 different nodes\n",
      "1847 nodes were used for the inductive testing, i.e. are never seen during training\n",
      "Val\n",
      "7290 9173 79.47\n",
      "Test\n",
      "6894 9174 75.15\n",
      "Val + Test\n",
      "14184 18347 77.31\n",
      "ia-reality-call\n"
     ]
    },
    {
     "name": "stderr",
     "output_type": "stream",
     "text": [
      "100%|██████████| 52049/52049 [00:00<00:00, 2270153.68it/s]\n"
     ]
    },
    {
     "name": "stdout",
     "output_type": "stream",
     "text": [
      "The dataset has 52049 interactions, involving 6809 different nodes\n",
      "The training dataset has 23625 interactions, involving 3838 different nodes\n",
      "The validation dataset has 7807 interactions, involving 1715 different nodes\n",
      "The test dataset has 7808 interactions, involving 1937 different nodes\n",
      "The new node validation dataset has 4011 interactions, involving 1185 different nodes\n",
      "The new node test dataset has 4611 interactions, involving 1531 different nodes\n",
      "680 nodes were used for the inductive testing, i.e. are never seen during training\n",
      "Val\n",
      "1286 7807 16.47\n",
      "Test\n",
      "1270 7808 16.27\n",
      "Val + Test\n",
      "2556 15615 16.37\n",
      "ia-movielens-user2tags-10m\n"
     ]
    },
    {
     "name": "stderr",
     "output_type": "stream",
     "text": [
      "100%|██████████| 95577/95577 [00:00<00:00, 2056042.76it/s]\n"
     ]
    },
    {
     "name": "stdout",
     "output_type": "stream",
     "text": [
      "The dataset has 95577 interactions, involving 16527 different nodes\n",
      "The training dataset has 48189 interactions, involving 10566 different nodes\n",
      "The validation dataset has 14336 interactions, involving 5209 different nodes\n",
      "The test dataset has 14337 interactions, involving 5377 different nodes\n",
      "The new node validation dataset has 6745 interactions, involving 3518 different nodes\n",
      "The new node test dataset has 7521 interactions, involving 3885 different nodes\n",
      "1652 nodes were used for the inductive testing, i.e. are never seen during training\n",
      "Val\n",
      "6977 14336 48.67\n",
      "Test\n",
      "6690 14337 46.66\n",
      "Val + Test\n",
      "13667 28673 47.67\n",
      "ia-slashdot-reply-dir\n"
     ]
    },
    {
     "name": "stderr",
     "output_type": "stream",
     "text": [
      "100%|██████████| 140777/140777 [00:00<00:00, 2030829.11it/s]\n"
     ]
    },
    {
     "name": "stdout",
     "output_type": "stream",
     "text": [
      "The dataset has 140777 interactions, involving 51083 different nodes\n",
      "The training dataset has 76599 interactions, involving 34496 different nodes\n",
      "The validation dataset has 21116 interactions, involving 10542 different nodes\n",
      "The test dataset has 21117 interactions, involving 10424 different nodes\n",
      "The new node validation dataset has 15534 interactions, involving 9790 different nodes\n",
      "The new node test dataset has 16568 interactions, involving 9911 different nodes\n",
      "5108 nodes were used for the inductive testing, i.e. are never seen during training\n",
      "Val\n",
      "17584 21116 83.27\n",
      "Test\n",
      "17427 21117 82.53\n",
      "Val + Test\n",
      "35011 42233 82.9\n",
      "ia-escorts-dynamic\n"
     ]
    },
    {
     "name": "stderr",
     "output_type": "stream",
     "text": [
      "100%|██████████| 50631/50631 [00:00<00:00, 2068895.77it/s]\n"
     ]
    },
    {
     "name": "stdout",
     "output_type": "stream",
     "text": [
      "The dataset has 50631 interactions, involving 10106 different nodes\n",
      "The training dataset has 29100 interactions, involving 7154 different nodes\n",
      "The validation dataset has 7596 interactions, involving 4118 different nodes\n",
      "The test dataset has 7577 interactions, involving 4144 different nodes\n",
      "The new node validation dataset has 3845 interactions, involving 2930 different nodes\n",
      "The new node test dataset has 4829 interactions, involving 3346 different nodes\n",
      "1010 nodes were used for the inductive testing, i.e. are never seen during training\n",
      "Val\n",
      "5817 7596 76.58\n",
      "Test\n",
      "5727 7577 75.58\n",
      "Val + Test\n",
      "11544 15173 76.08\n",
      "ia-digg-reply\n"
     ]
    },
    {
     "name": "stderr",
     "output_type": "stream",
     "text": [
      "100%|██████████| 87626/87626 [00:00<00:00, 1889877.17it/s]"
     ]
    },
    {
     "name": "stdout",
     "output_type": "stream",
     "text": [
      "The dataset has 87626 interactions, involving 30398 different nodes\n",
      "The training dataset has 47297 interactions, involving 21540 different nodes\n",
      "The validation dataset has 13144 interactions, involving 9241 different nodes\n",
      "The test dataset has 13144 interactions, involving 9511 different nodes\n",
      "The new node validation dataset has 7995 interactions, involving 7321 different nodes\n",
      "The new node test dataset has 8239 interactions, involving 7732 different nodes\n",
      "3039 nodes were used for the inductive testing, i.e. are never seen during training\n",
      "Val\n",
      "12941 13144 98.46\n",
      "Test\n",
      "12950 13144 98.52\n",
      "Val + Test\n",
      "25891 26288 98.49\n"
     ]
    },
    {
     "name": "stderr",
     "output_type": "stream",
     "text": [
      "\n"
     ]
    }
   ],
   "source": [
    "for dataset in [\"ia-retweet-pol\", \"ia-reality-call\", \"ia-movielens-user2tags-10m\", \"ia-slashdot-reply-dir\", \"ia-escorts-dynamic\", \"ia-digg-reply\"]:\n",
    "  print(dataset)\n",
    "  calc_surprise_factor(dataset)"
   ]
  },
  {
   "cell_type": "code",
   "execution_count": 1,
   "metadata": {},
   "outputs": [],
   "source": [
    "## Surprise factor of nodes = Number of new nodes in val/test times\n",
    "def calc_surprise_factor(dataset_name):\n",
    "  (\n",
    "    node_raw_features,\n",
    "    edge_raw_features,\n",
    "    full_data,\n",
    "    train_data,\n",
    "    val_data,\n",
    "    test_data,\n",
    "    new_node_val_data,\n",
    "    new_node_test_data,\n",
    "  ) = get_link_prediction_data(dataset_name=dataset_name, val_ratio=0.15, test_ratio=0.15)\n",
    "  known_nodes = defaultdict(lambda: 0)\n",
    "  for src, dst in zip(train_data.src_node_ids, train_data.dst_node_ids):\n",
    "    known_nodes[src] = known_nodes[dst] = 1\n",
    "  surp_all, tot_all =0, 0\n",
    "  surp_val, tot_val =0, 0\n",
    "  for src, dst in zip(val_data.src_node_ids, val_data.dst_node_ids):\n",
    "    if known_nodes[src] + known_nodes[dst] <= 1:\n",
    "      known_nodes[src] = known_nodes[dst] = 1\n",
    "      surp_val += 1\n",
    "      surp_all += 1\n",
    "    tot_val += 1\n",
    "    tot_all += 1\n",
    "  print('Val')\n",
    "  print(surp_val, tot_val, round(100*surp_val/tot_val, 2))\n",
    "  surp_test, tot_test =0, 0\n",
    "  for src, dst in zip(test_data.src_node_ids, test_data.dst_node_ids):\n",
    "    if known_nodes[src] + known_nodes[dst] <= 1:\n",
    "      known_nodes[src] = known_nodes[dst] = 1\n",
    "      surp_test += 1\n",
    "      surp_all += 1\n",
    "    tot_test += 1\n",
    "    tot_all += 1\n",
    "  print('Test')\n",
    "  print(surp_test, tot_test, round(100*surp_test/tot_test, 2))\n",
    "  print('Val + Test')\n",
    "  print(surp_all, tot_all, round(100*surp_all/tot_all, 2))"
   ]
  },
  {
   "cell_type": "code",
   "execution_count": 3,
   "metadata": {},
   "outputs": [
    {
     "name": "stdout",
     "output_type": "stream",
     "text": [
      "ia-retweet-pol\n"
     ]
    },
    {
     "name": "stderr",
     "output_type": "stream",
     "text": [
      "100%|██████████| 61156/61156 [00:00<00:00, 1869937.86it/s]"
     ]
    },
    {
     "name": "stdout",
     "output_type": "stream",
     "text": [
      "The dataset has 61156 interactions, involving 18470 different nodes\n",
      "The training dataset has 30070 interactions, involving 12678 different nodes\n",
      "The validation dataset has 9173 interactions, involving 5479 different nodes\n",
      "The test dataset has 9174 interactions, involving 5328 different nodes\n",
      "The new node validation dataset has 4957 interactions, involving 4196 different nodes\n",
      "The new node test dataset has 5073 interactions, involving 4153 different nodes\n",
      "1847 nodes were used for the inductive testing, i.e. are never seen during training\n",
      "Val\n",
      "2509 9173 27.35\n",
      "Test\n",
      "1883 9174 20.53\n",
      "Val + Test\n",
      "4392 18347 23.94\n",
      "ia-reality-call\n"
     ]
    },
    {
     "name": "stderr",
     "output_type": "stream",
     "text": [
      "\n",
      "100%|██████████| 52049/52049 [00:00<00:00, 2274387.19it/s]\n"
     ]
    },
    {
     "name": "stdout",
     "output_type": "stream",
     "text": [
      "The dataset has 52049 interactions, involving 6809 different nodes\n",
      "The training dataset has 23625 interactions, involving 3838 different nodes\n",
      "The validation dataset has 7807 interactions, involving 1715 different nodes\n",
      "The test dataset has 7808 interactions, involving 1937 different nodes\n",
      "The new node validation dataset has 4011 interactions, involving 1185 different nodes\n",
      "The new node test dataset has 4611 interactions, involving 1531 different nodes\n",
      "680 nodes were used for the inductive testing, i.e. are never seen during training\n",
      "Val\n",
      "1068 7807 13.68\n",
      "Test\n",
      "1176 7808 15.06\n",
      "Val + Test\n",
      "2244 15615 14.37\n",
      "ia-movielens-user2tags-10m\n"
     ]
    },
    {
     "name": "stderr",
     "output_type": "stream",
     "text": [
      "100%|██████████| 95577/95577 [00:00<00:00, 2210270.62it/s]\n"
     ]
    },
    {
     "name": "stdout",
     "output_type": "stream",
     "text": [
      "The dataset has 95577 interactions, involving 16527 different nodes\n",
      "The training dataset has 48189 interactions, involving 10566 different nodes\n",
      "The validation dataset has 14336 interactions, involving 5209 different nodes\n",
      "The test dataset has 14337 interactions, involving 5377 different nodes\n",
      "The new node validation dataset has 6745 interactions, involving 3518 different nodes\n",
      "The new node test dataset has 7521 interactions, involving 3885 different nodes\n",
      "1652 nodes were used for the inductive testing, i.e. are never seen during training\n",
      "Val\n",
      "2579 14336 17.99\n",
      "Test\n",
      "2368 14337 16.52\n",
      "Val + Test\n",
      "4947 28673 17.25\n",
      "ia-slashdot-reply-dir\n"
     ]
    },
    {
     "name": "stderr",
     "output_type": "stream",
     "text": [
      "100%|██████████| 140777/140777 [00:00<00:00, 2059761.51it/s]\n"
     ]
    },
    {
     "name": "stdout",
     "output_type": "stream",
     "text": [
      "The dataset has 140777 interactions, involving 51083 different nodes\n",
      "The training dataset has 76599 interactions, involving 34496 different nodes\n",
      "The validation dataset has 21116 interactions, involving 10542 different nodes\n",
      "The test dataset has 21117 interactions, involving 10424 different nodes\n",
      "The new node validation dataset has 15534 interactions, involving 9790 different nodes\n",
      "The new node test dataset has 16568 interactions, involving 9911 different nodes\n",
      "5108 nodes were used for the inductive testing, i.e. are never seen during training\n",
      "Val\n",
      "7562 21116 35.81\n",
      "Test\n",
      "6652 21117 31.5\n",
      "Val + Test\n",
      "14214 42233 33.66\n",
      "ia-escorts-dynamic\n"
     ]
    },
    {
     "name": "stderr",
     "output_type": "stream",
     "text": [
      "100%|██████████| 50631/50631 [00:00<00:00, 2087996.83it/s]\n"
     ]
    },
    {
     "name": "stdout",
     "output_type": "stream",
     "text": [
      "The dataset has 50631 interactions, involving 10106 different nodes\n",
      "The training dataset has 29100 interactions, involving 7154 different nodes\n",
      "The validation dataset has 7596 interactions, involving 4118 different nodes\n",
      "The test dataset has 7577 interactions, involving 4144 different nodes\n",
      "The new node validation dataset has 3845 interactions, involving 2930 different nodes\n",
      "The new node test dataset has 4829 interactions, involving 3346 different nodes\n",
      "1010 nodes were used for the inductive testing, i.e. are never seen during training\n",
      "Val\n",
      "1524 7596 20.06\n",
      "Test\n",
      "1262 7577 16.66\n",
      "Val + Test\n",
      "2786 15173 18.36\n",
      "ia-digg-reply\n"
     ]
    },
    {
     "name": "stderr",
     "output_type": "stream",
     "text": [
      "100%|██████████| 87626/87626 [00:00<00:00, 2051853.68it/s]"
     ]
    },
    {
     "name": "stdout",
     "output_type": "stream",
     "text": [
      "The dataset has 87626 interactions, involving 30398 different nodes\n",
      "The training dataset has 47297 interactions, involving 21540 different nodes\n",
      "The validation dataset has 13144 interactions, involving 9241 different nodes\n",
      "The test dataset has 13144 interactions, involving 9511 different nodes\n",
      "The new node validation dataset has 7995 interactions, involving 7321 different nodes\n",
      "The new node test dataset has 8239 interactions, involving 7732 different nodes\n",
      "3039 nodes were used for the inductive testing, i.e. are never seen during training\n",
      "Val\n",
      "4040 13144 30.74\n",
      "Test\n",
      "3303 13144 25.13\n",
      "Val + Test\n",
      "7343 26288 27.93\n"
     ]
    },
    {
     "name": "stderr",
     "output_type": "stream",
     "text": [
      "\n"
     ]
    }
   ],
   "source": [
    "for dataset in [\"ia-retweet-pol\", \"ia-reality-call\", \"ia-movielens-user2tags-10m\", \"ia-slashdot-reply-dir\", \"ia-escorts-dynamic\", \"ia-digg-reply\"]:\n",
    "  print(dataset)\n",
    "  calc_surprise_factor(dataset)"
   ]
  },
  {
   "cell_type": "code",
   "execution_count": 7,
   "metadata": {},
   "outputs": [],
   "source": [
    "### surprises\n",
    "## Surprise factor of nodes = Number of new nodes in val/test times\n",
    "def calc_surprise_factor_weird(dataset_name):\n",
    "  (\n",
    "    node_raw_features,\n",
    "    edge_raw_features,\n",
    "    full_data,\n",
    "    train_data,\n",
    "    val_data,\n",
    "    test_data,\n",
    "    new_node_val_data,\n",
    "    new_node_test_data,\n",
    "  ) = get_link_prediction_data(dataset_name=dataset_name, val_ratio=0.15, test_ratio=0.15)\n",
    "  known_nodes = defaultdict(lambda: 1)\n",
    "  for src, dst in zip(train_data.src_node_ids, train_data.dst_node_ids):\n",
    "    known_nodes[src] += 1\n",
    "    known_nodes[dst] += 1\n",
    "  surp_all, tot_all =0, 0\n",
    "  surp_val, tot_val =0, 0\n",
    "  for src, dst in zip(val_data.src_node_ids, val_data.dst_node_ids):\n",
    "    surp_val += max(1/known_nodes[src], 1/known_nodes[dst])\n",
    "    surp_all += max(1/known_nodes[src], 1/known_nodes[dst])\n",
    "    known_nodes[src] += 1\n",
    "    known_nodes[dst] += 1\n",
    "    tot_val += 1\n",
    "    tot_all += 1\n",
    "  print('Val')\n",
    "  print(surp_val, tot_val, round(100*surp_val/tot_val, 2))\n",
    "  surp_test, tot_test =0, 0\n",
    "  for src, dst in zip(test_data.src_node_ids, test_data.dst_node_ids):\n",
    "    surp_test += max(1/known_nodes[src], 1/known_nodes[dst])\n",
    "    surp_all += max(1/known_nodes[src], 1/known_nodes[dst])\n",
    "    known_nodes[src] += 1\n",
    "    known_nodes[dst] += 1\n",
    "    tot_test += 1\n",
    "    tot_all += 1\n",
    "  print('Test')\n",
    "  print(surp_test, tot_test, round(100*surp_test/tot_test, 2))\n",
    "  print('Val + Test')\n",
    "  print(surp_all, tot_all, round(100*surp_all/tot_all, 2))"
   ]
  },
  {
   "cell_type": "code",
   "execution_count": 8,
   "metadata": {},
   "outputs": [
    {
     "name": "stdout",
     "output_type": "stream",
     "text": [
      "ia-retweet-pol\n"
     ]
    },
    {
     "name": "stderr",
     "output_type": "stream",
     "text": [
      "100%|██████████| 61156/61156 [00:00<00:00, 2153673.79it/s]"
     ]
    },
    {
     "name": "stdout",
     "output_type": "stream",
     "text": [
      "The dataset has 61156 interactions, involving 18470 different nodes\n",
      "The training dataset has 30070 interactions, involving 12678 different nodes\n",
      "The validation dataset has 9173 interactions, involving 5479 different nodes\n",
      "The test dataset has 9174 interactions, involving 5328 different nodes\n",
      "The new node validation dataset has 4957 interactions, involving 4196 different nodes\n",
      "The new node test dataset has 5073 interactions, involving 4153 different nodes\n",
      "1847 nodes were used for the inductive testing, i.e. are never seen during training\n",
      "Val\n",
      "3714.88091121497 9173 40.5\n",
      "Test\n",
      "3000.662525356272 9174 32.71\n",
      "Val + Test\n",
      "6715.543436571139 18347 36.6\n",
      "ia-reality-call\n"
     ]
    },
    {
     "name": "stderr",
     "output_type": "stream",
     "text": [
      "\n",
      "100%|██████████| 52049/52049 [00:00<00:00, 2273321.42it/s]\n"
     ]
    },
    {
     "name": "stdout",
     "output_type": "stream",
     "text": [
      "The dataset has 52049 interactions, involving 6809 different nodes\n",
      "The training dataset has 23625 interactions, involving 3838 different nodes\n",
      "The validation dataset has 7807 interactions, involving 1715 different nodes\n",
      "The test dataset has 7808 interactions, involving 1937 different nodes\n",
      "The new node validation dataset has 4011 interactions, involving 1185 different nodes\n",
      "The new node test dataset has 4611 interactions, involving 1531 different nodes\n",
      "680 nodes were used for the inductive testing, i.e. are never seen during training\n",
      "Val\n",
      "1796.2238918964222 7807 23.01\n",
      "Test\n",
      "1857.866896450933 7808 23.79\n",
      "Val + Test\n",
      "3654.0907883473997 15615 23.4\n",
      "ia-movielens-user2tags-10m\n"
     ]
    },
    {
     "name": "stderr",
     "output_type": "stream",
     "text": [
      "100%|██████████| 95577/95577 [00:00<00:00, 2155274.99it/s]\n"
     ]
    },
    {
     "name": "stdout",
     "output_type": "stream",
     "text": [
      "The dataset has 95577 interactions, involving 16527 different nodes\n",
      "The training dataset has 48189 interactions, involving 10566 different nodes\n",
      "The validation dataset has 14336 interactions, involving 5209 different nodes\n",
      "The test dataset has 14337 interactions, involving 5377 different nodes\n",
      "The new node validation dataset has 6745 interactions, involving 3518 different nodes\n",
      "The new node test dataset has 7521 interactions, involving 3885 different nodes\n",
      "1652 nodes were used for the inductive testing, i.e. are never seen during training\n",
      "Val\n",
      "4148.147302151732 14336 28.94\n",
      "Test\n",
      "3875.265995530015 14337 27.03\n",
      "Val + Test\n",
      "8023.4132976814735 28673 27.98\n",
      "ia-slashdot-reply-dir\n"
     ]
    },
    {
     "name": "stderr",
     "output_type": "stream",
     "text": [
      "100%|██████████| 140777/140777 [00:00<00:00, 2039076.62it/s]\n"
     ]
    },
    {
     "name": "stdout",
     "output_type": "stream",
     "text": [
      "The dataset has 140777 interactions, involving 51083 different nodes\n",
      "The training dataset has 76599 interactions, involving 34496 different nodes\n",
      "The validation dataset has 21116 interactions, involving 10542 different nodes\n",
      "The test dataset has 21117 interactions, involving 10424 different nodes\n",
      "The new node validation dataset has 15534 interactions, involving 9790 different nodes\n",
      "The new node test dataset has 16568 interactions, involving 9911 different nodes\n",
      "5108 nodes were used for the inductive testing, i.e. are never seen during training\n",
      "Val\n",
      "10343.7467207607 21116 48.99\n",
      "Test\n",
      "9439.20044393669 21117 44.7\n",
      "Val + Test\n",
      "19782.94716469744 42233 46.84\n",
      "ia-escorts-dynamic\n"
     ]
    },
    {
     "name": "stderr",
     "output_type": "stream",
     "text": [
      "100%|██████████| 50631/50631 [00:00<00:00, 1918666.14it/s]\n"
     ]
    },
    {
     "name": "stdout",
     "output_type": "stream",
     "text": [
      "The dataset has 50631 interactions, involving 10106 different nodes\n",
      "The training dataset has 29100 interactions, involving 7154 different nodes\n",
      "The validation dataset has 7596 interactions, involving 4118 different nodes\n",
      "The test dataset has 7577 interactions, involving 4144 different nodes\n",
      "The new node validation dataset has 3845 interactions, involving 2930 different nodes\n",
      "The new node test dataset has 4829 interactions, involving 3346 different nodes\n",
      "1010 nodes were used for the inductive testing, i.e. are never seen during training\n",
      "Val\n",
      "2789.257301540414 7596 36.72\n",
      "Test\n",
      "2535.0940927336865 7577 33.46\n",
      "Val + Test\n",
      "5324.351394274045 15173 35.09\n",
      "ia-digg-reply\n"
     ]
    },
    {
     "name": "stderr",
     "output_type": "stream",
     "text": [
      "100%|██████████| 87626/87626 [00:00<00:00, 1899939.94it/s]"
     ]
    },
    {
     "name": "stdout",
     "output_type": "stream",
     "text": [
      "The dataset has 87626 interactions, involving 30398 different nodes\n",
      "The training dataset has 47297 interactions, involving 21540 different nodes\n",
      "The validation dataset has 13144 interactions, involving 9241 different nodes\n",
      "The test dataset has 13144 interactions, involving 9511 different nodes\n",
      "The new node validation dataset has 7995 interactions, involving 7321 different nodes\n",
      "The new node test dataset has 8239 interactions, involving 7732 different nodes\n",
      "3039 nodes were used for the inductive testing, i.e. are never seen during training\n",
      "Val\n",
      "6316.393472657191 13144 48.06\n",
      "Test\n",
      "5551.457537697504 13144 42.24\n",
      "Val + Test\n",
      "11867.851010355827 26288 45.15\n"
     ]
    },
    {
     "name": "stderr",
     "output_type": "stream",
     "text": [
      "\n"
     ]
    }
   ],
   "source": [
    "for dataset in [\"ia-retweet-pol\", \"ia-reality-call\", \"ia-movielens-user2tags-10m\", \"ia-slashdot-reply-dir\", \"ia-escorts-dynamic\", \"ia-digg-reply\"]:\n",
    "  print(dataset)\n",
    "  calc_surprise_factor_weird(dataset)"
   ]
  }
 ],
 "metadata": {
  "kernelspec": {
   "display_name": "GADBench",
   "language": "python",
   "name": "python3"
  },
  "language_info": {
   "codemirror_mode": {
    "name": "ipython",
    "version": 3
   },
   "file_extension": ".py",
   "mimetype": "text/x-python",
   "name": "python",
   "nbconvert_exporter": "python",
   "pygments_lexer": "ipython3",
   "version": "3.11.5"
  }
 },
 "nbformat": 4,
 "nbformat_minor": 2
}
