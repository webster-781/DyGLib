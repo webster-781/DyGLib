{
 "cells": [
  {
   "cell_type": "code",
   "execution_count": 23,
   "metadata": {},
   "outputs": [
    {
     "name": "stderr",
     "output_type": "stream",
     "text": [
      "100%|██████████| 59835/59835 [00:00<00:00, 2144936.75it/s]"
     ]
    },
    {
     "name": "stdout",
     "output_type": "stream",
     "text": [
      "The dataset has 59835 interactions, involving 1899 different nodes\n",
      "The training dataset has 34352 interactions, involving 1370 different nodes\n",
      "The validation dataset has 8975 interactions, involving 1036 different nodes\n",
      "The test dataset has 8976 interactions, involving 847 different nodes\n",
      "The new node validation dataset has 5002 interactions, involving 830 different nodes\n",
      "The new node test dataset has 5932 interactions, involving 684 different nodes\n",
      "189 nodes were used for the inductive testing, i.e. are never seen during training\n"
     ]
    },
    {
     "name": "stderr",
     "output_type": "stream",
     "text": [
      "\n"
     ]
    }
   ],
   "source": [
    "from collections import defaultdict\n",
    "from utils.DataLoader import get_link_prediction_data "
   ]
  },
  {
   "cell_type": "code",
   "execution_count": 29,
   "metadata": {},
   "outputs": [],
   "source": [
    "def calc_surprise_factor(dataset_name):\n",
    "  (\n",
    "    node_raw_features,\n",
    "    edge_raw_features,\n",
    "    full_data,\n",
    "    train_data,\n",
    "    val_data,\n",
    "    test_data,\n",
    "    new_node_val_data,\n",
    "    new_node_test_data,\n",
    "  ) = get_link_prediction_data(dataset_name=dataset_name, val_ratio=0.15, test_ratio=0.15)\n",
    "  known_edges = defaultdict(lambda: 0)\n",
    "  for src, dst in zip(train_data.src_node_ids, train_data.dst_node_ids):\n",
    "    known_edges[f'{src} {dst}'] = known_edges[f'{dst} {src}'] = 1\n",
    "  surp_all, tot_all =0, 0\n",
    "  surp_val, tot_val =0, 0\n",
    "  for src, dst in zip(val_data.src_node_ids, val_data.dst_node_ids):\n",
    "    if not known_edges[f'{src} {dst}']:\n",
    "      surp_val += 1\n",
    "      surp_all += 1\n",
    "    tot_val += 1\n",
    "    tot_all += 1\n",
    "  print('Val')\n",
    "  print(surp_val, tot_val, round(100*surp_val/tot_val, 2))\n",
    "  surp_test, tot_test =0, 0\n",
    "  for src, dst in zip(test_data.src_node_ids, test_data.dst_node_ids):\n",
    "    if not known_edges[f'{src} {dst}']:\n",
    "      surp_test += 1\n",
    "      surp_all += 1\n",
    "    tot_test += 1\n",
    "    tot_all += 1\n",
    "  print('Test')\n",
    "  print(surp_test, tot_test, round(100*surp_test/tot_test, 2))\n",
    "  print('Val + Test')\n",
    "  print(surp_all, tot_all, round(100*surp_all/tot_all, 2))"
   ]
  },
  {
   "cell_type": "code",
   "execution_count": 38,
   "metadata": {},
   "outputs": [
    {
     "name": "stderr",
     "output_type": "stream",
     "text": [
      "100%|██████████| 87626/87626 [00:00<00:00, 2015796.42it/s]"
     ]
    },
    {
     "name": "stdout",
     "output_type": "stream",
     "text": [
      "The dataset has 87626 interactions, involving 30398 different nodes\n",
      "The training dataset has 47297 interactions, involving 21540 different nodes\n",
      "The validation dataset has 13144 interactions, involving 9241 different nodes\n",
      "The test dataset has 13144 interactions, involving 9511 different nodes\n",
      "The new node validation dataset has 7995 interactions, involving 7321 different nodes\n",
      "The new node test dataset has 8239 interactions, involving 7732 different nodes\n",
      "3039 nodes were used for the inductive testing, i.e. are never seen during training\n",
      "Val\n",
      "13051 13144 99.29\n",
      "Test\n",
      "13083 13144 99.54\n",
      "Val + Test\n",
      "26134 26288 99.41\n"
     ]
    },
    {
     "name": "stderr",
     "output_type": "stream",
     "text": [
      "\n"
     ]
    }
   ],
   "source": [
    "calc_surprise_factor('ia-digg-reply')"
   ]
  },
  {
   "cell_type": "code",
   "execution_count": null,
   "metadata": {},
   "outputs": [],
   "source": []
  }
 ],
 "metadata": {
  "kernelspec": {
   "display_name": "GADBench",
   "language": "python",
   "name": "python3"
  },
  "language_info": {
   "codemirror_mode": {
    "name": "ipython",
    "version": 3
   },
   "file_extension": ".py",
   "mimetype": "text/x-python",
   "name": "python",
   "nbconvert_exporter": "python",
   "pygments_lexer": "ipython3",
   "version": "3.11.5"
  }
 },
 "nbformat": 4,
 "nbformat_minor": 2
}
