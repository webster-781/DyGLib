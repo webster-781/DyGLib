{
 "cells": [
  {
   "cell_type": "code",
   "execution_count": 1,
   "metadata": {},
   "outputs": [],
   "source": [
    "import numpy\n",
    "def fixtime(data_name = 'ia-retweet-pol'):\n",
    "  with open(f\"/home/ayush/DyGLib/DG_data/{data_name}/{data_name}.csv\", \"r\") as f:\n",
    "    newlines = f.readlines()\n",
    "  ts = [float(newline.split(\",\")[2]) for newline in newlines]\n",
    "  indices = numpy.argsort(ts)\n",
    "  newlines_sorted = []\n",
    "  for idx in indices:\n",
    "    newlines_sorted.append(newlines[idx])\n",
    "  with open(f\"/home/ayush/DyGLib/DG_data/{data_name}/{data_name}.csv\", \"w\") as f:\n",
    "    f.writelines(newlines_sorted)"
   ]
  },
  {
   "cell_type": "code",
   "execution_count": 5,
   "metadata": {},
   "outputs": [],
   "source": [
    "data_name = \"ia-retweet-pol\"\n",
    "with open(f\"/home/ayush/DyGLib/DG_data/{data_name}/{data_name}.csv\", \"r\") as f:\n",
    "  lines = f.readlines()\n",
    "with open(f\"/home/ayush/DyGLib/DG_data/{data_name}/{data_name}.csv\", \"w\") as f:\n",
    "  lines = [line[:-1] + \",0,0\\n\" for line in lines]\n",
    "  f.writelines(lines)"
   ]
  },
  {
   "cell_type": "code",
   "execution_count": 15,
   "metadata": {},
   "outputs": [],
   "source": [
    "data_name = \"ia-reality-call\"\n",
    "with open(f\"/home/ayush/DyGLib/DG_data/{data_name}/{data_name}.csv\", \"r\") as f:\n",
    "  lines = f.readlines()\n",
    "with open(f\"/home/ayush/DyGLib/DG_data/{data_name}/{data_name}.csv\", \"w\") as f:\n",
    "  newlines = []\n",
    "  for line in lines:\n",
    "    newline = ','.join(line.split(',')[:-1]) + ',0,' + line.split(',')[-1]\n",
    "    newlines.append(newline)"
   ]
  },
  {
   "cell_type": "code",
   "execution_count": 17,
   "metadata": {},
   "outputs": [],
   "source": [
    "with open(f\"/home/ayush/DyGLib/DG_data/{data_name}/{data_name}.csv\", \"w\") as f:\n",
    "  f.writelines(newlines)"
   ]
  },
  {
   "cell_type": "code",
   "execution_count": 7,
   "metadata": {},
   "outputs": [],
   "source": []
  },
  {
   "cell_type": "code",
   "execution_count": 33,
   "metadata": {},
   "outputs": [],
   "source": [
    "fixtime('ia-retweet-pol')"
   ]
  },
  {
   "cell_type": "code",
   "execution_count": 9,
   "metadata": {},
   "outputs": [],
   "source": [
    "data_name = \"ia-slashdot-reply-dir\"\n",
    "# Replace 94724 by `17884 19718 1 1143315210`\n",
    "with open(f\"/home/ayush/DyGLib/DG_data/{data_name}/{data_name}.csv\", \"r\") as f:\n",
    "  lines = f.readlines()\n",
    "with open(f\"/home/ayush/DyGLib/DG_data/{data_name}/{data_name}.csv\", \"w\") as f:\n",
    "  newlines = []\n",
    "  for line in lines[2:]:\n",
    "    splits = line.split(' ')\n",
    "    newline = ','.join(splits[:-2]) + ',' + splits[-1][:-1] + ',0,' + splits[-2] + \"\\n\"\n",
    "    newlines.append(newline)\n",
    "  f.writelines(newlines)\n",
    "fixtime(data_name)"
   ]
  },
  {
   "cell_type": "code",
   "execution_count": 10,
   "metadata": {},
   "outputs": [],
   "source": [
    "data_name = \"ia-movielens-user2tags-10m\"\n",
    "with open(f\"/home/ayush/DyGLib/DG_data/{data_name}/{data_name}.csv\", \"r\") as f:\n",
    "  lines = f.readlines()\n",
    "with open(f\"/home/ayush/DyGLib/DG_data/{data_name}/{data_name}.csv\", \"w\") as f:\n",
    "  newlines = []\n",
    "  for line in lines[2:]:\n",
    "    splits = line.split(' ')\n",
    "    newline = ','.join(splits[:-2]) + ',' + splits[-1][:-1] + ',0,' + splits[-2] + \"\\n\"\n",
    "    newlines.append(newline)\n",
    "  f.writelines(newlines)\n",
    "fixtime(data_name)"
   ]
  },
  {
   "cell_type": "code",
   "execution_count": 3,
   "metadata": {},
   "outputs": [],
   "source": [
    "data_name = \"ia-escorts-dynamic\"\n",
    "with open(f\"/home/ayush/DyGLib/DG_data/{data_name}/{data_name}.csv\", \"r\") as f:\n",
    "  lines = f.readlines()\n",
    "with open(f\"/home/ayush/DyGLib/DG_data/{data_name}/{data_name}.csv\", \"w\") as f:\n",
    "  newlines = []\n",
    "  for line in lines[2:]:\n",
    "    splits = line.split(' ')\n",
    "    newline = ','.join(splits[:-2]) + ',' + splits[-1][:-1] + ',0,' + splits[-2] + \"\\n\"\n",
    "    newlines.append(newline)\n",
    "  f.writelines(newlines)\n",
    "fixtime(data_name)"
   ]
  },
  {
   "cell_type": "code",
   "execution_count": 11,
   "metadata": {},
   "outputs": [],
   "source": [
    "data_name = \"ia-digg-reply\"\n",
    "with open(f\"/home/ayush/DyGLib/DG_data/{data_name}/{data_name}.csv\", \"r\") as f:\n",
    "  lines = f.readlines()\n",
    "with open(f\"/home/ayush/DyGLib/DG_data/{data_name}/{data_name}.csv\", \"w\") as f:\n",
    "  newlines = []\n",
    "  for line in lines[1:]:\n",
    "    splits = line.split(' ')\n",
    "    newline = ','.join(splits[:-2]) + ',' + splits[-1][:-1] + ',0,' + splits[-2] + \"\\n\"\n",
    "    newlines.append(newline)\n",
    "  f.writelines(newlines)\n",
    "fixtime(data_name)"
   ]
  },
  {
   "cell_type": "code",
   "execution_count": 9,
   "metadata": {},
   "outputs": [],
   "source": [
    "import re\n",
    "data_name = \"ia-chess\"\n",
    "with open(f\"/home/ayush/DyGLib/DG_data/{data_name}/{data_name}.edges\", \"r\") as f:\n",
    "  lines = f.readlines()\n",
    "with open(f\"/home/ayush/DyGLib/DG_data/{data_name}/{data_name}.csv\", \"w\") as f:\n",
    "  newlines = []\n",
    "  for line in lines[2:]:\n",
    "    splits = re.split('\\s|\\t', line)\n",
    "    newline = ','.join(splits[:2]) + ',' + splits[3] + ',0,' + splits[2] + \"\\n\"\n",
    "    newlines.append(newline)\n",
    "  f.writelines(newlines)\n",
    "fixtime(data_name)"
   ]
  },
  {
   "cell_type": "code",
   "execution_count": 10,
   "metadata": {},
   "outputs": [],
   "source": [
    "import re\n",
    "data_name = \"tech-as-topology\"\n",
    "with open(f\"/home/ayush/DyGLib/DG_data/{data_name}/{data_name}.edges\", \"r\") as f:\n",
    "  lines = f.readlines()\n",
    "with open(f\"/home/ayush/DyGLib/DG_data/{data_name}/{data_name}.csv\", \"w\") as f:\n",
    "  newlines = []\n",
    "  for line in lines[5:]:\n",
    "    splits = re.split('\\s|\\t', line)\n",
    "    newline = ','.join(splits[:2]) + ',' + splits[3] + ',0,' + splits[2] + \"\\n\"\n",
    "    newlines.append(newline)\n",
    "  f.writelines(newlines)\n",
    "fixtime(data_name)"
   ]
  },
  {
   "cell_type": "code",
   "execution_count": null,
   "metadata": {},
   "outputs": [],
   "source": []
  }
 ],
 "metadata": {
  "kernelspec": {
   "display_name": "ayushenv",
   "language": "python",
   "name": "python3"
  },
  "language_info": {
   "codemirror_mode": {
    "name": "ipython",
    "version": 3
   },
   "file_extension": ".py",
   "mimetype": "text/x-python",
   "name": "python",
   "nbconvert_exporter": "python",
   "pygments_lexer": "ipython3",
   "version": "3.11.5"
  }
 },
 "nbformat": 4,
 "nbformat_minor": 2
}
