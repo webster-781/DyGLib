{
 "cells": [
  {
   "cell_type": "code",
   "execution_count": 2,
   "metadata": {},
   "outputs": [],
   "source": [
    "def calculate_indices(lines):\n",
    "    source_nodes = set()\n",
    "    dest_nodes = set()\n",
    "\n",
    "    for line in lines:\n",
    "        parts = line.split()\n",
    "        source_nodes.add(int(parts[0]))\n",
    "        dest_nodes.add(int(parts[1]))\n",
    "\n",
    "    return len(source_nodes), len(dest_nodes)\n",
    "\n",
    "def reindex_bipartite_graph_with_calculated_offset(input_file, output_file, from_line = 0):\n",
    "    return\n",
    "    with open(input_file, 'r') as file:\n",
    "        lines = file.readlines()\n",
    "    lines = lines[from_line:]\n",
    "    source_node_count, dest_node_count = calculate_indices(lines)\n",
    "    source_index = {node: i + 1 for i, node in enumerate(set(int(line.split()[0]) for line in lines))}\n",
    "    dest_index = {node: i + 1 + source_node_count for i, node in enumerate(set(int(line.split()[1]) for line in lines))}\n",
    "\n",
    "    output_lines = []\n",
    "\n",
    "    for line in lines:\n",
    "        parts = line.split()\n",
    "        old_source_index = int(parts[0])\n",
    "        old_dest_index = int(parts[1])\n",
    "        new_source_index = source_index[old_source_index]\n",
    "        new_dest_index = dest_index[old_dest_index]\n",
    "        new_line = f\"{new_source_index} {new_dest_index} {' '.join(parts[2:])}\\n\"\n",
    "        output_lines.append(new_line)\n",
    "\n",
    "    with open(output_file, \"w\") as file:\n",
    "        file.writelines(output_lines)"
   ]
  },
  {
   "cell_type": "code",
   "execution_count": 3,
   "metadata": {},
   "outputs": [],
   "source": [
    "import numpy\n",
    "def fixtime(data_name = 'ia-retweet-pol'):\n",
    "  with open(f\"/home/ayush/DyGLib/DG_data/{data_name}/{data_name}.csv\", \"r\") as f:\n",
    "    newlines = f.readlines()\n",
    "  ts = [float(newline.split(\",\")[2]) for newline in newlines]\n",
    "  indices = numpy.argsort(ts)\n",
    "  newlines_sorted = []\n",
    "  for idx in indices:\n",
    "    newlines_sorted.append(newlines[idx])\n",
    "  with open(f\"/home/ayush/DyGLib/DG_data/{data_name}/{data_name}.csv\", \"w\") as f:\n",
    "    f.writelines(newlines_sorted)"
   ]
  },
  {
   "cell_type": "code",
   "execution_count": 5,
   "metadata": {},
   "outputs": [],
   "source": [
    "data_name = \"ia-retweet-pol\"\n",
    "with open(f\"/home/ayush/DyGLib/DG_data/{data_name}/{data_name}.csv\", \"r\") as f:\n",
    "  lines = f.readlines()\n",
    "with open(f\"/home/ayush/DyGLib/DG_data/{data_name}/{data_name}.csv\", \"w\") as f:\n",
    "  lines = [line[:-1] + \",0,0\\n\" for line in lines]\n",
    "  f.writelines(lines)"
   ]
  },
  {
   "cell_type": "code",
   "execution_count": 15,
   "metadata": {},
   "outputs": [],
   "source": [
    "data_name = \"ia-reality-call\"\n",
    "with open(f\"/home/ayush/DyGLib/DG_data/{data_name}/{data_name}.csv\", \"r\") as f:\n",
    "  lines = f.readlines()\n",
    "with open(f\"/home/ayush/DyGLib/DG_data/{data_name}/{data_name}.csv\", \"w\") as f:\n",
    "  newlines = []\n",
    "  for line in lines:\n",
    "    newline = ','.join(line.split(',')[:-1]) + ',0,' + line.split(',')[-1]\n",
    "    newlines.append(newline)"
   ]
  },
  {
   "cell_type": "code",
   "execution_count": 17,
   "metadata": {},
   "outputs": [],
   "source": [
    "with open(f\"/home/ayush/DyGLib/DG_data/{data_name}/{data_name}.csv\", \"w\") as f:\n",
    "  f.writelines(newlines)"
   ]
  },
  {
   "cell_type": "code",
   "execution_count": 33,
   "metadata": {},
   "outputs": [],
   "source": [
    "fixtime('ia-retweet-pol')"
   ]
  },
  {
   "cell_type": "code",
   "execution_count": 4,
   "metadata": {},
   "outputs": [],
   "source": [
    "data_name = \"ia-slashdot-reply-dir\"\n",
    "# Replace 94721 by `52 11628 1 1143312540`\n",
    "\n",
    "with open(f\"/home/ayush/DyGLib/DG_data/{data_name}/{data_name}.edges\", \"r\") as f:\n",
    "  lines = f.readlines()\n",
    "with open(f\"/home/ayush/DyGLib/DG_data/{data_name}/{data_name}.csv\", \"w\") as f:\n",
    "  newlines = []\n",
    "  for line in lines[2:]:\n",
    "    splits = line.split(' ')\n",
    "    newline = ','.join(splits[:-2]) + ',' + splits[-1][:-1] + ',0,' + splits[-2] + \"\\n\"\n",
    "    newlines.append(newline)\n",
    "  f.writelines(newlines)\n",
    "fixtime(data_name)"
   ]
  },
  {
   "cell_type": "code",
   "execution_count": 4,
   "metadata": {},
   "outputs": [],
   "source": [
    "data_name = \"ia-movielens-user2tags-10m\"\n",
    "with open(f\"/home/ayush/DyGLib/DG_data/{data_name}/{data_name}.edges\", \"r\") as f:\n",
    "  lines = f.readlines()\n",
    "with open(f\"/home/ayush/DyGLib/DG_data/{data_name}/{data_name}.csv\", \"w\") as f:\n",
    "  newlines = []\n",
    "  for line in lines[1:]:\n",
    "    if line == '17884 19718 1 1143315210\\n':\n",
    "      line = \"3974 16398 1 1171532715\\n\"\n",
    "    splits = line.split(' ')\n",
    "    newline = ','.join(splits[:-2]) + ',' + splits[-1][:-1] + ',0,' + splits[-2] + \"\\n\"\n",
    "    newlines.append(newline)\n",
    "  f.writelines(newlines)\n",
    "fixtime(data_name)"
   ]
  },
  {
   "cell_type": "code",
   "execution_count": 3,
   "metadata": {},
   "outputs": [],
   "source": [
    "data_name = \"ia-escorts-dynamic\"\n",
    "# reindex_bipartite_graph_with_calculated_offset(f\"/home/ayush/DyGLib/DG_data/{data_name}/{data_name}.edges\", f\"/home/ayush/DyGLib/DG_data/{data_name}/{data_name}.edge1\", from_line = 2)\n",
    "with open(f\"/home/ayush/DyGLib/DG_data/{data_name}/{data_name}.edges\", \"r\") as f:\n",
    "  lines = f.readlines()\n",
    "with open(f\"/home/ayush/DyGLib/DG_data/{data_name}/{data_name}.csv\", \"w\") as f:\n",
    "  newlines = []\n",
    "  for line in lines[2:]:\n",
    "    splits = line.split(' ')\n",
    "    newline = ','.join(splits[:-2]) + ',' + splits[-1][:-1] + ',0,' + splits[-2] + \"\\n\"\n",
    "    newlines.append(newline)\n",
    "  f.writelines(newlines)\n",
    "fixtime(data_name)"
   ]
  },
  {
   "cell_type": "code",
   "execution_count": 8,
   "metadata": {},
   "outputs": [],
   "source": [
    "data_name = \"ia-digg-reply\"\n",
    "with open(f\"/home/ayush/DyGLib/DG_data/{data_name}/{data_name}.edges\", \"r\") as f:\n",
    "  lines = f.readlines()\n",
    "with open(f\"/home/ayush/DyGLib/DG_data/{data_name}/{data_name}.csv\", \"w\") as f:\n",
    "  newlines = []\n",
    "  for line in lines[1:]:\n",
    "    splits = line.split(' ')\n",
    "    newline = ','.join(splits[:-2]) + ',' + splits[-1][:-1] + ',0,' + splits[-2] + \"\\n\"\n",
    "    newlines.append(newline)\n",
    "  f.writelines(newlines)\n",
    "fixtime(data_name)"
   ]
  },
  {
   "cell_type": "code",
   "execution_count": 2,
   "metadata": {},
   "outputs": [],
   "source": [
    "import pandas as pd\n",
    "dataset_name='ia-movielens-user2tags-10m'\n",
    "graph_df = pd.read_csv('/home/ayush/DyGLib/processed_data/{}/ml_{}.csv'.format(dataset_name, dataset_name))"
   ]
  },
  {
   "cell_type": "code",
   "execution_count": 7,
   "metadata": {},
   "outputs": [
    {
     "data": {
      "text/html": [
       "<div>\n",
       "<style scoped>\n",
       "    .dataframe tbody tr th:only-of-type {\n",
       "        vertical-align: middle;\n",
       "    }\n",
       "\n",
       "    .dataframe tbody tr th {\n",
       "        vertical-align: top;\n",
       "    }\n",
       "\n",
       "    .dataframe thead th {\n",
       "        text-align: right;\n",
       "    }\n",
       "</style>\n",
       "<table border=\"1\" class=\"dataframe\">\n",
       "  <thead>\n",
       "    <tr style=\"text-align: right;\">\n",
       "      <th></th>\n",
       "      <th>Unnamed: 0</th>\n",
       "      <th>u</th>\n",
       "      <th>i</th>\n",
       "      <th>ts</th>\n",
       "      <th>label</th>\n",
       "      <th>idx</th>\n",
       "    </tr>\n",
       "  </thead>\n",
       "  <tbody>\n",
       "    <tr>\n",
       "      <th>0</th>\n",
       "      <td>0</td>\n",
       "      <td>1130</td>\n",
       "      <td>5001</td>\n",
       "      <td>1.135313e+09</td>\n",
       "      <td>0.0</td>\n",
       "      <td>1</td>\n",
       "    </tr>\n",
       "    <tr>\n",
       "      <th>1</th>\n",
       "      <td>1</td>\n",
       "      <td>1130</td>\n",
       "      <td>4089</td>\n",
       "      <td>1.135313e+09</td>\n",
       "      <td>0.0</td>\n",
       "      <td>2</td>\n",
       "    </tr>\n",
       "    <tr>\n",
       "      <th>2</th>\n",
       "      <td>2</td>\n",
       "      <td>1130</td>\n",
       "      <td>11026</td>\n",
       "      <td>1.135313e+09</td>\n",
       "      <td>0.0</td>\n",
       "      <td>3</td>\n",
       "    </tr>\n",
       "    <tr>\n",
       "      <th>3</th>\n",
       "      <td>3</td>\n",
       "      <td>1130</td>\n",
       "      <td>11032</td>\n",
       "      <td>1.135313e+09</td>\n",
       "      <td>0.0</td>\n",
       "      <td>4</td>\n",
       "    </tr>\n",
       "    <tr>\n",
       "      <th>4</th>\n",
       "      <td>4</td>\n",
       "      <td>1130</td>\n",
       "      <td>11023</td>\n",
       "      <td>1.135313e+09</td>\n",
       "      <td>0.0</td>\n",
       "      <td>5</td>\n",
       "    </tr>\n",
       "    <tr>\n",
       "      <th>...</th>\n",
       "      <td>...</td>\n",
       "      <td>...</td>\n",
       "      <td>...</td>\n",
       "      <td>...</td>\n",
       "      <td>...</td>\n",
       "      <td>...</td>\n",
       "    </tr>\n",
       "    <tr>\n",
       "      <th>95574</th>\n",
       "      <td>95574</td>\n",
       "      <td>2644</td>\n",
       "      <td>7632</td>\n",
       "      <td>1.231121e+09</td>\n",
       "      <td>0.0</td>\n",
       "      <td>95575</td>\n",
       "    </tr>\n",
       "    <tr>\n",
       "      <th>95575</th>\n",
       "      <td>95575</td>\n",
       "      <td>2644</td>\n",
       "      <td>7632</td>\n",
       "      <td>1.231121e+09</td>\n",
       "      <td>0.0</td>\n",
       "      <td>95576</td>\n",
       "    </tr>\n",
       "    <tr>\n",
       "      <th>95576</th>\n",
       "      <td>95576</td>\n",
       "      <td>13</td>\n",
       "      <td>4060</td>\n",
       "      <td>1.231122e+09</td>\n",
       "      <td>0.0</td>\n",
       "      <td>95577</td>\n",
       "    </tr>\n",
       "    <tr>\n",
       "      <th>95577</th>\n",
       "      <td>95577</td>\n",
       "      <td>16</td>\n",
       "      <td>4251</td>\n",
       "      <td>1.231125e+09</td>\n",
       "      <td>0.0</td>\n",
       "      <td>95578</td>\n",
       "    </tr>\n",
       "    <tr>\n",
       "      <th>95578</th>\n",
       "      <td>95578</td>\n",
       "      <td>2077</td>\n",
       "      <td>15248</td>\n",
       "      <td>1.231129e+09</td>\n",
       "      <td>0.0</td>\n",
       "      <td>95579</td>\n",
       "    </tr>\n",
       "  </tbody>\n",
       "</table>\n",
       "<p>95579 rows × 6 columns</p>\n",
       "</div>"
      ],
      "text/plain": [
       "       Unnamed: 0     u      i            ts  label    idx\n",
       "0               0  1130   5001  1.135313e+09    0.0      1\n",
       "1               1  1130   4089  1.135313e+09    0.0      2\n",
       "2               2  1130  11026  1.135313e+09    0.0      3\n",
       "3               3  1130  11032  1.135313e+09    0.0      4\n",
       "4               4  1130  11023  1.135313e+09    0.0      5\n",
       "...           ...   ...    ...           ...    ...    ...\n",
       "95574       95574  2644   7632  1.231121e+09    0.0  95575\n",
       "95575       95575  2644   7632  1.231121e+09    0.0  95576\n",
       "95576       95576    13   4060  1.231122e+09    0.0  95577\n",
       "95577       95577    16   4251  1.231125e+09    0.0  95578\n",
       "95578       95578  2077  15248  1.231129e+09    0.0  95579\n",
       "\n",
       "[95579 rows x 6 columns]"
      ]
     },
     "execution_count": 7,
     "metadata": {},
     "output_type": "execute_result"
    }
   ],
   "source": [
    "graph_df"
   ]
  },
  {
   "cell_type": "code",
   "execution_count": 8,
   "metadata": {},
   "outputs": [],
   "source": [
    "u = set(graph_df['u'])\n",
    "i = set(graph_df['i'])"
   ]
  },
  {
   "cell_type": "code",
   "execution_count": 15,
   "metadata": {},
   "outputs": [
    {
     "data": {
      "text/plain": [
       "(4010, 16528, 2, 4011, 4012, 20540)"
      ]
     },
     "execution_count": 15,
     "metadata": {},
     "output_type": "execute_result"
    }
   ],
   "source": [
    "len(u), len(i), min(u), max(u), min(i), max(i)"
   ]
  },
  {
   "cell_type": "code",
   "execution_count": 14,
   "metadata": {},
   "outputs": [
    {
     "data": {
      "text/plain": [
       "{1}"
      ]
     },
     "execution_count": 14,
     "metadata": {},
     "output_type": "execute_result"
    }
   ],
   "source": [
    "ox = set(list(range(1, 4012)))"
   ]
  },
  {
   "cell_type": "code",
   "execution_count": null,
   "metadata": {},
   "outputs": [],
   "source": []
  }
 ],
 "metadata": {
  "kernelspec": {
   "display_name": "ayushenv",
   "language": "python",
   "name": "python3"
  },
  "language_info": {
   "codemirror_mode": {
    "name": "ipython",
    "version": 3
   },
   "file_extension": ".py",
   "mimetype": "text/x-python",
   "name": "python",
   "nbconvert_exporter": "python",
   "pygments_lexer": "ipython3",
   "version": "3.10.12"
  }
 },
 "nbformat": 4,
 "nbformat_minor": 2
}
