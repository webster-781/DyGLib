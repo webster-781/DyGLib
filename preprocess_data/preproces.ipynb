{
 "cells": [
  {
   "cell_type": "code",
   "execution_count": 2,
   "metadata": {},
   "outputs": [],
   "source": [
    "def calculate_indices(lines):\n",
    "    source_nodes = set()\n",
    "    dest_nodes = set()\n",
    "\n",
    "    for line in lines:\n",
    "        parts = line.split()\n",
    "        source_nodes.add(int(parts[0]))\n",
    "        dest_nodes.add(int(parts[1]))\n",
    "\n",
    "    return len(source_nodes), len(dest_nodes)\n",
    "\n",
    "def reindex_bipartite_graph_with_calculated_offset(input_file, output_file, from_line = 0):\n",
    "    return\n",
    "    with open(input_file, 'r') as file:\n",
    "        lines = file.readlines()\n",
    "    lines = lines[from_line:]\n",
    "    source_node_count, dest_node_count = calculate_indices(lines)\n",
    "    source_index = {node: i + 1 for i, node in enumerate(set(int(line.split()[0]) for line in lines))}\n",
    "    dest_index = {node: i + 1 + source_node_count for i, node in enumerate(set(int(line.split()[1]) for line in lines))}\n",
    "\n",
    "    output_lines = []\n",
    "\n",
    "    for line in lines:\n",
    "        parts = line.split()\n",
    "        old_source_index = int(parts[0])\n",
    "        old_dest_index = int(parts[1])\n",
    "        new_source_index = source_index[old_source_index]\n",
    "        new_dest_index = dest_index[old_dest_index]\n",
    "        new_line = f\"{new_source_index} {new_dest_index} {' '.join(parts[2:])}\\n\"\n",
    "        output_lines.append(new_line)\n",
    "\n",
    "    with open(output_file, \"w\") as file:\n",
    "        file.writelines(output_lines)"
   ]
  },
  {
   "cell_type": "code",
   "execution_count": 3,
   "metadata": {},
   "outputs": [],
   "source": [
    "import numpy\n",
    "def fixtime(data_name = 'ia-retweet-pol'):\n",
    "  with open(f\"/home/ayush/DyGLib/DG_data/{data_name}/{data_name}.csv\", \"r\") as f:\n",
    "    newlines = f.readlines()\n",
    "  breakpoint()\n",
    "  ts = [float(newline.split(\",\")[2]) for newline in newlines]\n",
    "  indices = numpy.argsort(ts)\n",
    "  newlines_sorted = []\n",
    "  for idx in indices:\n",
    "    newlines_sorted.append(newlines[idx])\n",
    "  with open(f\"/home/ayush/DyGLib/DG_data/{data_name}/{data_name}.csv\", \"w\") as f:\n",
    "    f.writelines(newlines_sorted)"
   ]
  },
  {
   "cell_type": "code",
   "execution_count": 5,
   "metadata": {},
   "outputs": [],
   "source": [
    "data_name = \"ia-retweet-pol\"\n",
    "with open(f\"/home/ayush/DyGLib/DG_data/{data_name}/{data_name}.csv\", \"r\") as f:\n",
    "  lines = f.readlines()\n",
    "with open(f\"/home/ayush/DyGLib/DG_data/{data_name}/{data_name}.csv\", \"w\") as f:\n",
    "  lines = [line[:-1] + \",0,0\\n\" for line in lines]\n",
    "  f.writelines(lines)"
   ]
  },
  {
   "cell_type": "code",
   "execution_count": 15,
   "metadata": {},
   "outputs": [],
   "source": [
    "data_name = \"ia-reality-call\"\n",
    "with open(f\"/home/ayush/DyGLib/DG_data/{data_name}/{data_name}.csv\", \"r\") as f:\n",
    "  lines = f.readlines()\n",
    "with open(f\"/home/ayush/DyGLib/DG_data/{data_name}/{data_name}.csv\", \"w\") as f:\n",
    "  newlines = []\n",
    "  for line in lines:\n",
    "    newline = ','.join(line.split(',')[:-1]) + ',0,' + line.split(',')[-1]\n",
    "    newlines.append(newline)"
   ]
  },
  {
   "cell_type": "code",
   "execution_count": 17,
   "metadata": {},
   "outputs": [],
   "source": [
    "with open(f\"/home/ayush/DyGLib/DG_data/{data_name}/{data_name}.csv\", \"w\") as f:\n",
    "  f.writelines(newlines)"
   ]
  },
  {
   "cell_type": "code",
   "execution_count": 33,
   "metadata": {},
   "outputs": [],
   "source": [
    "fixtime('ia-retweet-pol')"
   ]
  },
  {
   "cell_type": "code",
   "execution_count": 4,
   "metadata": {},
   "outputs": [],
   "source": [
    "data_name = \"ia-slashdot-reply-dir\"\n",
    "# Replace 94721 by `52 11628 1 1143312540`\n",
    "\n",
    "with open(f\"/home/ayush/DyGLib/DG_data/{data_name}/{data_name}.edges\", \"r\") as f:\n",
    "  lines = f.readlines()\n",
    "with open(f\"/home/ayush/DyGLib/DG_data/{data_name}/{data_name}.csv\", \"w\") as f:\n",
    "  newlines = []\n",
    "  for line in lines[2:]:\n",
    "    splits = line.split(' ')\n",
    "    newline = ','.join(splits[:-2]) + ',' + splits[-1][:-1] + ',0,' + splits[-2] + \"\\n\"\n",
    "    newlines.append(newline)\n",
    "  f.writelines(newlines)\n",
    "fixtime(data_name)"
   ]
  },
  {
   "cell_type": "code",
   "execution_count": 4,
   "metadata": {},
   "outputs": [],
   "source": [
    "data_name = \"ia-movielens-user2tags-10m\"\n",
    "with open(f\"/home/ayush/DyGLib/DG_data/{data_name}/{data_name}.edges\", \"r\") as f:\n",
    "  lines = f.readlines()\n",
    "with open(f\"/home/ayush/DyGLib/DG_data/{data_name}/{data_name}.csv\", \"w\") as f:\n",
    "  newlines = []\n",
    "  for line in lines[1:]:\n",
    "    if line == '17884 19718 1 1143315210\\n':\n",
    "      line = \"3974 16398 1 1171532715\\n\"\n",
    "    splits = line.split(' ')\n",
    "    newline = ','.join(splits[:-2]) + ',' + splits[-1][:-1] + ',0,' + splits[-2] + \"\\n\"\n",
    "    newlines.append(newline)\n",
    "  f.writelines(newlines)\n",
    "fixtime(data_name)"
   ]
  },
  {
   "cell_type": "code",
   "execution_count": 3,
   "metadata": {},
   "outputs": [],
   "source": [
    "data_name = \"ia-escorts-dynamic\"\n",
    "# reindex_bipartite_graph_with_calculated_offset(f\"/home/ayush/DyGLib/DG_data/{data_name}/{data_name}.edges\", f\"/home/ayush/DyGLib/DG_data/{data_name}/{data_name}.edge1\", from_line = 2)\n",
    "with open(f\"/home/ayush/DyGLib/DG_data/{data_name}/{data_name}.edges\", \"r\") as f:\n",
    "  lines = f.readlines()\n",
    "with open(f\"/home/ayush/DyGLib/DG_data/{data_name}/{data_name}.csv\", \"w\") as f:\n",
    "  newlines = []\n",
    "  for line in lines[2:]:\n",
    "    splits = line.split(' ')\n",
    "    newline = ','.join(splits[:-2]) + ',' + splits[-1][:-1] + ',0,' + splits[-2] + \"\\n\"\n",
    "    newlines.append(newline)\n",
    "  f.writelines(newlines)\n",
    "fixtime(data_name)"
   ]
  },
  {
   "cell_type": "code",
   "execution_count": 8,
   "metadata": {},
   "outputs": [],
   "source": [
    "data_name = \"ia-digg-reply\"\n",
    "with open(f\"/home/ayush/DyGLib/DG_data/{data_name}/{data_name}.edges\", \"r\") as f:\n",
    "  lines = f.readlines()\n",
    "with open(f\"/home/ayush/DyGLib/DG_data/{data_name}/{data_name}.csv\", \"w\") as f:\n",
    "  newlines = []\n",
    "  for line in lines[1:]:\n",
    "    splits = line.split(' ')\n",
    "    newline = ','.join(splits[:-2]) + ',' + splits[-1][:-1] + ',0,' + splits[-2] + \"\\n\"\n",
    "    newlines.append(newline)\n",
    "  f.writelines(newlines)\n",
    "fixtime(data_name)"
   ]
  },
  {
   "cell_type": "code",
   "execution_count": 2,
   "metadata": {},
   "outputs": [],
   "source": [
    "import pandas as pd\n",
    "dataset_name='ia-movielens-user2tags-10m'\n",
    "graph_df = pd.read_csv('/home/ayush/DyGLib/processed_data/{}/ml_{}.csv'.format(dataset_name, dataset_name))"
   ]
  },
  {
   "cell_type": "code",
   "execution_count": 6,
   "metadata": {},
   "outputs": [],
   "source": [
    "from tqdm import tqdm_notebook as tqdm\n",
    "def get_string(splits, this_map):\n",
    "  if this_map is None:\n",
    "    return ''\n",
    "  if isinstance(this_map, tuple):\n",
    "    if len(tuple) == 2:\n",
    "      return ','.join(splits[this_map[0]: this_map[1]])\n",
    "    elif len(tuple) == 1:\n",
    "      return ','.join(splits[this_map[0]:])\n",
    "  else:\n",
    "    if this_map < len(splits):\n",
    "      breakpoint()\n",
    "    return splits[this_map]\n",
    "  \n",
    "def correct_format(data_name, startline = 0, all_maps = [0, 1, (2, 3), (3, )]):\n",
    "  with open(f\"/home/ayush/DyGLib/DG_data/{data_name}/{data_name}.txt\", \"r\") as f:\n",
    "    lines = f.readlines()\n",
    "  with open(f\"/home/ayush/DyGLib/DG_data/{data_name}/{data_name}.csv\", \"w\") as f:\n",
    "    newlines = []\n",
    "    total = 0\n",
    "    if all_maps[3] is None:\n",
    "      total = 1\n",
    "    for line in tqdm(lines[startline:]):\n",
    "      line = line.split('\\n')[0]\n",
    "      line = line.replace(',', ' ')\n",
    "      line = line.replace('\\t', ' ')\n",
    "      splits = line.split(' ')\n",
    "      splits = [split for split in splits if split != '']\n",
    "      strings = [get_string(splits, this_map) for this_map in all_maps]\n",
    "      newline = ','.join([string for string in strings if string != '']) + (\",0\" if total else \"\") + \"\\n\"\n",
    "      newlines.append(newline)\n",
    "    f.writelines(newlines)\n",
    "  fixtime(data_name)"
   ]
  },
  {
   "cell_type": "code",
   "execution_count": 7,
   "metadata": {},
   "outputs": [],
   "source": [
    "all_dat_maps = {\n",
    "    'SMS-A': (0, [0, 1, 2, None]),\n",
    "    # 'comm-linux-kernel-reply': (3, [0, 1, 3, 2]),\n",
    "    # 'ia-chess': (2, [0, 1, 3, 2]),\n",
    "    # 'digg-friends': (1, [0, 1, 2, None]),\n",
    "    # 'ia-enron-email-all': (1, [0, 1, 3, 2]),\n",
    "    # 'imdb': (0, [0, 1, 3, 2]), #bip --> already split indices\n",
    "    # 'rec-stackoverflow': (0, [0, 1, 3, 2]), # bip\n",
    "    # 'soc-sign-bitcoinalpha': (0, [0, 1, 3, 2]),\n",
    "    # 'soc-sign-bitcoinotc': (0, [0, 1, 3, 2]),\n",
    "    # 'ia-stackexch-user-marks-post-und': (2, [0, 1, 3, 2]), # bip\n",
    "    # 'soc-youtube-growth': (2, [0, 1, 3, 2]),\n",
    "    # 'tech-as-topology': (5, [0, 1 , 3, 2])\n",
    "}"
   ]
  },
  {
   "cell_type": "code",
   "execution_count": 8,
   "metadata": {},
   "outputs": [
    {
     "name": "stdout",
     "output_type": "stream",
     "text": [
      "SMS-A\n"
     ]
    },
    {
     "name": "stderr",
     "output_type": "stream",
     "text": [
      "/tmp/ipykernel_251457/2859276975.py:23: TqdmDeprecationWarning: This function will be removed in tqdm==5.0.0\n",
      "Please use `tqdm.notebook.tqdm` instead of `tqdm.tqdm_notebook`\n",
      "  for line in tqdm(lines[startline:]):\n"
     ]
    },
    {
     "data": {
      "application/vnd.jupyter.widget-view+json": {
       "model_id": "8562bc737b9c40dd8dcf7b94657809ae",
       "version_major": 2,
       "version_minor": 0
      },
      "text/plain": [
       "  0%|          | 0/548182 [00:00<?, ?it/s]"
      ]
     },
     "metadata": {},
     "output_type": "display_data"
    }
   ],
   "source": [
    "for dat, (startline, all_maps) in all_dat_maps.items():\n",
    "    print(f'{dat}')\n",
    "    correct_format(dat, startline, all_maps)"
   ]
  },
  {
   "cell_type": "code",
   "execution_count": 8,
   "metadata": {},
   "outputs": [],
   "source": [
    "u = set(graph_df['u'])\n",
    "i = set(graph_df['i'])"
   ]
  },
  {
   "cell_type": "code",
   "execution_count": 15,
   "metadata": {},
   "outputs": [
    {
     "data": {
      "text/plain": [
       "(4010, 16528, 2, 4011, 4012, 20540)"
      ]
     },
     "execution_count": 15,
     "metadata": {},
     "output_type": "execute_result"
    }
   ],
   "source": [
    "len(u), len(i), min(u), max(u), min(i), max(i)"
   ]
  },
  {
   "cell_type": "code",
   "execution_count": 14,
   "metadata": {},
   "outputs": [
    {
     "data": {
      "text/plain": [
       "{1}"
      ]
     },
     "execution_count": 14,
     "metadata": {},
     "output_type": "execute_result"
    }
   ],
   "source": [
    "ox = set(list(range(1, 4012)))"
   ]
  },
  {
   "cell_type": "code",
   "execution_count": null,
   "metadata": {},
   "outputs": [],
   "source": []
  }
 ],
 "metadata": {
  "kernelspec": {
   "display_name": "ayushenv",
   "language": "python",
   "name": "python3"
  },
  "language_info": {
   "codemirror_mode": {
    "name": "ipython",
    "version": 3
   },
   "file_extension": ".py",
   "mimetype": "text/x-python",
   "name": "python",
   "nbconvert_exporter": "python",
   "pygments_lexer": "ipython3",
   "version": "3.10.12"
  }
 },
 "nbformat": 4,
 "nbformat_minor": 2
}
