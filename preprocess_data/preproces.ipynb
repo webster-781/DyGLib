{
 "cells": [
  {
   "cell_type": "code",
   "execution_count": 5,
   "metadata": {},
   "outputs": [],
   "source": [
    "data_name = \"ia-retweet-pol\"\n",
    "with open(f\"/home/ayush/DyGLib/DG_data/{data_name}/{data_name}.csv\", \"r\") as f:\n",
    "  lines = f.readlines()\n",
    "with open(f\"/home/ayush/DyGLib/DG_data/{data_name}/{data_name}.csv\", \"w\") as f:\n",
    "  lines = [line[:-1] + \",0,0\\n\" for line in lines]\n",
    "  f.writelines(lines)"
   ]
  },
  {
   "cell_type": "code",
   "execution_count": 15,
   "metadata": {},
   "outputs": [],
   "source": [
    "data_name = \"ia-reality-call\"\n",
    "with open(f\"/home/ayush/DyGLib/DG_data/{data_name}/{data_name}.csv\", \"r\") as f:\n",
    "  lines = f.readlines()\n",
    "with open(f\"/home/ayush/DyGLib/DG_data/{data_name}/{data_name}.csv\", \"w\") as f:\n",
    "  newlines = []\n",
    "  for line in lines:\n",
    "    newline = ','.join(line.split(',')[:-1]) + ',0,' + line.split(',')[-1]\n",
    "    newlines.append(newline)"
   ]
  },
  {
   "cell_type": "code",
   "execution_count": 17,
   "metadata": {},
   "outputs": [],
   "source": [
    "with open(f\"/home/ayush/DyGLib/DG_data/{data_name}/{data_name}.csv\", \"w\") as f:\n",
    "  f.writelines(newlines)"
   ]
  },
  {
   "cell_type": "code",
   "execution_count": 26,
   "metadata": {},
   "outputs": [],
   "source": [
    "import numpy\n",
    "ts = [float(newline.split(\",\")[-3]) for newline in newlines]\n",
    "indices = numpy.argsort(ts)"
   ]
  },
  {
   "cell_type": "code",
   "execution_count": 27,
   "metadata": {},
   "outputs": [],
   "source": [
    "newlines_sorted = []\n",
    "for idx in indices:\n",
    "  newlines_sorted.append(newlines[idx])"
   ]
  },
  {
   "cell_type": "code",
   "execution_count": 29,
   "metadata": {},
   "outputs": [],
   "source": [
    "with open(f\"/home/ayush/DyGLib/DG_data/{data_name}/{data_name}.csv\", \"w\") as f:\n",
    "  f.writelines(newlines_sorted)"
   ]
  },
  {
   "cell_type": "code",
   "execution_count": null,
   "metadata": {},
   "outputs": [],
   "source": []
  }
 ],
 "metadata": {
  "kernelspec": {
   "display_name": "ayushenv",
   "language": "python",
   "name": "python3"
  },
  "language_info": {
   "codemirror_mode": {
    "name": "ipython",
    "version": 3
   },
   "file_extension": ".py",
   "mimetype": "text/x-python",
   "name": "python",
   "nbconvert_exporter": "python",
   "pygments_lexer": "ipython3",
   "version": "3.10.12"
  }
 },
 "nbformat": 4,
 "nbformat_minor": 2
}
