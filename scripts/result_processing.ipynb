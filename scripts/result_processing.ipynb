{
 "cells": [
  {
   "cell_type": "code",
   "execution_count": 17,
   "metadata": {},
   "outputs": [],
   "source": [
    "import torch\n",
    "import wandb\n",
    "import pprint"
   ]
  },
  {
   "cell_type": "code",
   "execution_count": 10,
   "metadata": {},
   "outputs": [],
   "source": [
    "import os\n",
    "os.environ[\"http_proxy\"]=\"http://proxy61.iitd.ac.in:3128\"\n",
    "os.environ[\"https_proxy\"]=\"http://proxy61.iitd.ac.in:3128\"\n"
   ]
  },
  {
   "cell_type": "code",
   "execution_count": 61,
   "metadata": {},
   "outputs": [],
   "source": [
    "def get_average_over_last_five_epochs(run_id):\n",
    "  # Takes wandb run id and returns average of last 5 readings of the following metrics\n",
    "  # new node test average_precision\n",
    "  # test average_precision\n",
    "  # test roc_auc\n",
    "  # new node test roc_auc\n",
    "  api = wandb.Api()\n",
    "  run = api.run(f\"/fb-graph-proj/fb-graph-proj-dyglib/runs/{run_id}\")\n",
    "  index = torch.argmax(torch.tensor(run.history()[\"val average_precision\"].tolist()))\n",
    "  METRICS_LIST = [\"new node test average_precision\", \"test average_precision\", \"test roc_auc\", \"new node test roc_auc\"]\n",
    "  avg_metric = {}\n",
    "  for metric in METRICS_LIST:\n",
    "    avg_metric[metric] = round(float(100 * torch.nanmean(torch.tensor(run.history()[metric].tolist()))), 2)\n",
    "  print(run.config[\"dataset\"])\n",
    "  pprint.pprint(avg_metric)\n",
    "  # return avg_metric"
   ]
  },
  {
   "cell_type": "code",
   "execution_count": 70,
   "metadata": {},
   "outputs": [
    {
     "name": "stdout",
     "output_type": "stream",
     "text": [
      "Contacts\n",
      "{'new node test average_precision': 85.31,\n",
      " 'new node test roc_auc': 90.1,\n",
      " 'test average_precision': 80.5,\n",
      " 'test roc_auc': 87.03}\n"
     ]
    }
   ],
   "source": [
    "get_average_over_last_five_epochs(\"p0ft9874\")"
   ]
  },
  {
   "cell_type": "code",
   "execution_count": null,
   "metadata": {},
   "outputs": [],
   "source": []
  },
  {
   "cell_type": "code",
   "execution_count": null,
   "metadata": {},
   "outputs": [],
   "source": []
  }
 ],
 "metadata": {
  "kernelspec": {
   "display_name": "ayushenv",
   "language": "python",
   "name": "python3"
  },
  "language_info": {
   "codemirror_mode": {
    "name": "ipython",
    "version": 3
   },
   "file_extension": ".py",
   "mimetype": "text/x-python",
   "name": "python",
   "nbconvert_exporter": "python",
   "pygments_lexer": "ipython3",
   "version": "3.10.12"
  }
 },
 "nbformat": 4,
 "nbformat_minor": 2
}
